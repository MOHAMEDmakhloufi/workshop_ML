{
 "cells": [
  {
   "cell_type": "markdown",
   "id": "9417612d",
   "metadata": {},
   "source": [
    "# Scénario de ce projet :"
   ]
  },
  {
   "cell_type": "markdown",
   "id": "6a85ddb5",
   "metadata": {},
   "source": [
    "Vous avez une entreprise de développement d'applications web et votre nouveau projet concerne la création d'une application qui met en relation des vendeurs de voiture d'occasion et des potentiels clients. Vous aimeriez ajouter une nouvelle fonctionnalité à cette application, celle de de donner la possibilité aux utilisateurs de l'application de connaître le prix correcte auquel ils peuvent acheter ou vendre une voiture d'occasion d'après les caractéristiques qu'ils souhaitent afin de ne pas se faire arnaquer par des vendeurs.\n",
    "\n",
    "Ensuite l'application devra avertir un potentiel acheteur si la voiture qui l'intéresse est au prix \"juste\" et aussi avertir un vendeur si le prix auquel il veut vendre sa voiture est correcte.\n",
    "\n",
    "Après avoir collecté des données des caractéristiques de plusieurs centaines de voitures d'occasion ainsi que leurs prix de vente sur des plateformes dédiées, vous décidez donc de construire un modèle de Machine Learning capable de prédire le prix d'une voiture en fonction de ses caractéristiques."
   ]
  },
  {
   "cell_type": "markdown",
   "id": "0912cd0f",
   "metadata": {},
   "source": [
    "# ________________________ IMPLEMENTATION ________________________"
   ]
  },
  {
   "cell_type": "code",
   "execution_count": 1,
   "id": "079fd7e6",
   "metadata": {},
   "outputs": [],
   "source": [
    "import numpy as np\n",
    "import pandas as pd\n",
    "import matplotlib.pyplot as plt\n",
    "from sklearn.preprocessing import MinMaxScaler"
   ]
  },
  {
   "cell_type": "markdown",
   "id": "39e79a1f",
   "metadata": {},
   "source": [
    "#  1. Import DataSet"
   ]
  },
  {
   "cell_type": "code",
   "execution_count": 2,
   "id": "1f5e7feb",
   "metadata": {},
   "outputs": [
    {
     "data": {
      "text/html": [
       "<div>\n",
       "<style scoped>\n",
       "    .dataframe tbody tr th:only-of-type {\n",
       "        vertical-align: middle;\n",
       "    }\n",
       "\n",
       "    .dataframe tbody tr th {\n",
       "        vertical-align: top;\n",
       "    }\n",
       "\n",
       "    .dataframe thead th {\n",
       "        text-align: right;\n",
       "    }\n",
       "</style>\n",
       "<table border=\"1\" class=\"dataframe\">\n",
       "  <thead>\n",
       "    <tr style=\"text-align: right;\">\n",
       "      <th></th>\n",
       "      <th>curb-weight</th>\n",
       "      <th>price</th>\n",
       "    </tr>\n",
       "  </thead>\n",
       "  <tbody>\n",
       "    <tr>\n",
       "      <th>0</th>\n",
       "      <td>2548</td>\n",
       "      <td>13495</td>\n",
       "    </tr>\n",
       "    <tr>\n",
       "      <th>1</th>\n",
       "      <td>2548</td>\n",
       "      <td>16500</td>\n",
       "    </tr>\n",
       "    <tr>\n",
       "      <th>2</th>\n",
       "      <td>2823</td>\n",
       "      <td>16500</td>\n",
       "    </tr>\n",
       "    <tr>\n",
       "      <th>3</th>\n",
       "      <td>2337</td>\n",
       "      <td>13950</td>\n",
       "    </tr>\n",
       "    <tr>\n",
       "      <th>4</th>\n",
       "      <td>2824</td>\n",
       "      <td>17450</td>\n",
       "    </tr>\n",
       "  </tbody>\n",
       "</table>\n",
       "</div>"
      ],
      "text/plain": [
       "   curb-weight  price\n",
       "0         2548  13495\n",
       "1         2548  16500\n",
       "2         2823  16500\n",
       "3         2337  13950\n",
       "4         2824  17450"
      ]
     },
     "execution_count": 2,
     "metadata": {},
     "output_type": "execute_result"
    }
   ],
   "source": [
    "#import data\n",
    "data= pd.read_csv('data.csv')\n",
    "#display data\n",
    "data.head()"
   ]
  },
  {
   "cell_type": "markdown",
   "id": "20ad9a8b",
   "metadata": {},
   "source": [
    "# 2.Data visualization"
   ]
  },
  {
   "cell_type": "code",
   "execution_count": 3,
   "id": "1ec075c3",
   "metadata": {},
   "outputs": [],
   "source": [
    "#specify X (feature)\n",
    "X= data['curb-weight']\n",
    "#specify y (target)\n",
    "y= data['price']\n"
   ]
  },
  {
   "cell_type": "code",
   "execution_count": 4,
   "id": "ec69c169",
   "metadata": {},
   "outputs": [
    {
     "data": {
      "text/plain": [
       "<matplotlib.collections.PathCollection at 0x1e50762a550>"
      ]
     },
     "execution_count": 4,
     "metadata": {},
     "output_type": "execute_result"
    },
    {
     "data": {
      "image/png": "[encoded data removed]",
      "text/plain": [
       "<Figure size 640x480 with 1 Axes>"
      ]
     },
     "metadata": {},
     "output_type": "display_data"
    }
   ],
   "source": [
    "#visualization\n",
    "plt.scatter(X, y)"
   ]
  },
  {
   "cell_type": "markdown",
   "id": "709af886",
   "metadata": {},
   "source": [
    "# 3.data preparation"
   ]
  },
  {
   "cell_type": "code",
   "execution_count": 5,
   "id": "7f61fb2e",
   "metadata": {},
   "outputs": [],
   "source": [
    "#transform X to numpy array\n",
    "X= data['curb-weight'].to_numpy()\n",
    "#transform y to numpy array\n",
    "y= data['price'].to_numpy()"
   ]
  },
  {
   "cell_type": "code",
   "execution_count": 6,
   "id": "5c87971e",
   "metadata": {},
   "outputs": [
    {
     "name": "stdout",
     "output_type": "stream",
     "text": [
      "(196,)\n",
      "(196,)\n"
     ]
    }
   ],
   "source": [
    "#display data dimensioning\n",
    "print(X.shape)\n",
    "print(y.shape)"
   ]
  },
  {
   "cell_type": "code",
   "execution_count": 7,
   "id": "afd4ebed",
   "metadata": {},
   "outputs": [],
   "source": [
    "#reshape the dimensioning\n",
    "X= X.reshape((X.shape[0], 1))\n",
    "y= y.reshape((y.shape[0], 1))"
   ]
  },
  {
   "cell_type": "code",
   "execution_count": 8,
   "id": "564ae54e",
   "metadata": {},
   "outputs": [
    {
     "name": "stdout",
     "output_type": "stream",
     "text": [
      "(196, 1)\n",
      "(196, 1)\n"
     ]
    }
   ],
   "source": [
    "#display again the data dimensioning\n",
    "print(X.shape)\n",
    "print(y.shape)"
   ]
  },
  {
   "cell_type": "code",
   "execution_count": 9,
   "id": "1e551a7b",
   "metadata": {},
   "outputs": [],
   "source": [
    "#why this row ?\n",
    "scaler_X = MinMaxScaler()\n",
    "X= scaler_X.fit_transform(X)\n",
    "scaler_y= MinMaxScaler()\n",
    "y= scaler_y.fit_transform(y)"
   ]
  },
  {
   "cell_type": "code",
   "execution_count": 10,
   "id": "fef15ef5",
   "metadata": {},
   "outputs": [
    {
     "data": {
      "text/plain": [
       "array([[0.16906196, 0.41117145, 1.        ],\n",
       "       [0.16906196, 0.41117145, 1.        ],\n",
       "       [0.26816167, 0.51784329, 1.        ],\n",
       "       [0.10845499, 0.32932506, 1.        ],\n",
       "       [0.26856356, 0.51823119, 1.        ],\n",
       "       [0.15623651, 0.39526765, 1.        ],\n",
       "       [0.27666457, 0.52598914, 1.        ],\n",
       "       [0.32337178, 0.56865787, 1.        ],\n",
       "       [0.38422686, 0.61986036, 1.        ],\n",
       "       [0.12377951, 0.35182312, 1.        ],\n",
       "       [0.12377951, 0.35182312, 1.        ],\n",
       "       [0.2246863 , 0.47401086, 1.        ],\n",
       "       [0.2453669 , 0.49534523, 1.        ],\n",
       "       [0.36946403, 0.60783553, 1.        ],\n",
       "       [0.45659429, 0.67571761, 1.        ],\n",
       "       [0.61213325, 0.78238945, 1.        ],\n",
       "       [0.        , 0.        , 1.        ],\n",
       "       [0.02241862, 0.14972847, 1.        ],\n",
       "       [0.02666849, 0.16330489, 1.        ],\n",
       "       [0.02265153, 0.15050427, 1.        ],\n",
       "       [0.02265153, 0.15050427, 1.        ],\n",
       "       [0.06163028, 0.24825446, 1.        ],\n",
       "       [0.03452274, 0.18580295, 1.        ],\n",
       "       [0.03776675, 0.1943367 , 1.        ],\n",
       "       [0.03776675, 0.1943367 , 1.        ],\n",
       "       [0.07436093, 0.27269201, 1.        ],\n",
       "       [0.16494059, 0.40612878, 1.        ],\n",
       "       [0.26336246, 0.51318852, 1.        ],\n",
       "       [0.00761727, 0.08727696, 1.        ],\n",
       "       [0.01648505, 0.1283941 , 1.        ],\n",
       "       [0.01832673, 0.13537626, 1.        ],\n",
       "       [0.03074051, 0.17532971, 1.        ],\n",
       "       [0.03295535, 0.18153607, 1.        ],\n",
       "       [0.04099918, 0.20248254, 1.        ],\n",
       "       [0.04322786, 0.20791311, 1.        ],\n",
       "       [0.08418551, 0.2901474 , 1.        ],\n",
       "       [0.0965382 , 0.31070597, 1.        ],\n",
       "       [0.10018772, 0.31652444, 1.        ],\n",
       "       [0.11758142, 0.34290147, 1.        ],\n",
       "       [0.14362277, 0.37897595, 1.        ],\n",
       "       [0.09750479, 0.31225756, 1.        ],\n",
       "       [0.10845499, 0.32932506, 1.        ],\n",
       "       [0.23359861, 0.4833204 , 1.        ],\n",
       "       [1.        , 1.        , 1.        ],\n",
       "       [1.        , 1.        , 1.        ],\n",
       "       [0.91203241, 0.95500388, 1.        ],\n",
       "       [0.02431567, 0.15593483, 1.        ],\n",
       "       [0.02554045, 0.15981381, 1.        ],\n",
       "       [0.02616413, 0.1617533 , 1.        ],\n",
       "       [0.03142437, 0.1772692 , 1.        ],\n",
       "       [0.03211575, 0.17920869, 1.        ],\n",
       "       [0.11971922, 0.34600465, 1.        ],\n",
       "       [0.11971922, 0.34600465, 1.        ],\n",
       "       [0.12106513, 0.34794414, 1.        ],\n",
       "       [0.15409736, 0.39255237, 1.        ],\n",
       "       [0.12106513, 0.34794414, 1.        ],\n",
       "       [0.1279075 , 0.35764158, 1.        ],\n",
       "       [0.12106513, 0.34794414, 1.        ],\n",
       "       [0.1279075 , 0.35764158, 1.        ],\n",
       "       [0.13722743, 0.3704422 , 1.        ],\n",
       "       [0.13210321, 0.36346005, 1.        ],\n",
       "       [0.21021763, 0.45849496, 1.        ],\n",
       "       [0.22102399, 0.47013189, 1.        ],\n",
       "       [0.61821804, 0.78626843, 1.        ],\n",
       "       [0.76987351, 0.87742436, 1.        ],\n",
       "       [0.60607856, 0.77851047, 1.        ],\n",
       "       [0.78354773, 0.88518231, 1.        ],\n",
       "       [0.76308154, 0.87354538, 1.        ],\n",
       "       [0.72626362, 0.85221102, 1.        ],\n",
       "       [0.8753642 , 0.935609  , 1.        ],\n",
       "       [0.30425195, 0.55159038, 1.        ],\n",
       "       [0.02782089, 0.16679597, 1.        ],\n",
       "       [0.031287  , 0.1768813 , 1.        ],\n",
       "       [0.04006209, 0.20015516, 1.        ],\n",
       "       [0.06494787, 0.25484872, 1.        ],\n",
       "       [0.11704998, 0.34212568, 1.        ],\n",
       "       [0.10616778, 0.32583398, 1.        ],\n",
       "       [0.27219412, 0.52172227, 1.        ],\n",
       "       [0.30897729, 0.55585725, 1.        ],\n",
       "       [0.31113721, 0.55779674, 1.        ],\n",
       "       [0.11572664, 0.34018619, 1.        ],\n",
       "       [0.12652398, 0.35570209, 1.        ],\n",
       "       [0.12597268, 0.3549263 , 1.        ],\n",
       "       [0.12597268, 0.3549263 , 1.        ],\n",
       "       [0.02419485, 0.15554694, 1.        ],\n",
       "       [0.04210615, 0.20519783, 1.        ],\n",
       "       [0.02782089, 0.16679597, 1.        ],\n",
       "       [0.03046907, 0.17455392, 1.        ],\n",
       "       [0.04322786, 0.20791311, 1.        ],\n",
       "       [0.03225493, 0.17959659, 1.        ],\n",
       "       [0.04387546, 0.2094647 , 1.        ],\n",
       "       [0.03510172, 0.18735454, 1.        ],\n",
       "       [0.04535016, 0.21295578, 1.        ],\n",
       "       [0.04068561, 0.20170675, 1.        ],\n",
       "       [0.10515907, 0.32428239, 1.        ],\n",
       "       [0.09969721, 0.31574864, 1.        ],\n",
       "       [0.38856701, 0.62335144, 1.        ],\n",
       "       [0.49184813, 0.70131885, 1.        ],\n",
       "       [0.37182557, 0.60977502, 1.        ],\n",
       "       [0.37704745, 0.61404189, 1.        ],\n",
       "       [0.41013641, 0.64041893, 1.        ],\n",
       "       [0.41013641, 0.64041893, 1.        ],\n",
       "       [0.3531439 , 0.59425912, 1.        ],\n",
       "       [0.43945894, 0.66291699, 1.        ],\n",
       "       [0.45659429, 0.67571761, 1.        ],\n",
       "       [0.56745657, 0.75329713, 1.        ],\n",
       "       [0.37895534, 0.61559348, 1.        ],\n",
       "       [0.46819992, 0.68425136, 1.        ],\n",
       "       [0.48588146, 0.69705198, 1.        ],\n",
       "       [0.60005396, 0.7746315 , 1.        ],\n",
       "       [0.37895534, 0.61559348, 1.        ],\n",
       "       [0.46819992, 0.68425136, 1.        ],\n",
       "       [0.40567709, 0.63692785, 1.        ],\n",
       "       [0.02782089, 0.16679597, 1.        ],\n",
       "       [0.06163028, 0.24825446, 1.        ],\n",
       "       [0.03452274, 0.18580295, 1.        ],\n",
       "       [0.03776675, 0.1943367 , 1.        ],\n",
       "       [0.07436093, 0.27269201, 1.        ],\n",
       "       [0.16494059, 0.40612878, 1.        ],\n",
       "       [0.26615673, 0.5159038 , 1.        ],\n",
       "       [0.25038805, 0.5003879 , 1.        ],\n",
       "       [0.17909509, 0.42319628, 1.        ],\n",
       "       [0.14215649, 0.37703646, 1.        ],\n",
       "       [0.20597091, 0.45384019, 1.        ],\n",
       "       [0.21920412, 0.4681924 , 1.        ],\n",
       "       [0.22358444, 0.47284717, 1.        ],\n",
       "       [0.24268426, 0.49262995, 1.        ],\n",
       "       [0.26216942, 0.51202483, 1.        ],\n",
       "       [0.27789011, 0.52715283, 1.        ],\n",
       "       [0.04752332, 0.21799845, 1.        ],\n",
       "       [0.06009915, 0.24515128, 1.        ],\n",
       "       [0.0850883 , 0.29169899, 1.        ],\n",
       "       [0.06494787, 0.25484872, 1.        ],\n",
       "       [0.07414953, 0.27230411, 1.        ],\n",
       "       [0.10922281, 0.33048875, 1.        ],\n",
       "       [0.12106513, 0.34794414, 1.        ],\n",
       "       [0.15715781, 0.39643134, 1.        ],\n",
       "       [0.0967794 , 0.31109387, 1.        ],\n",
       "       [0.14069774, 0.37509697, 1.        ],\n",
       "       [0.13069711, 0.36152056, 1.        ],\n",
       "       [0.20316385, 0.45073701, 1.        ],\n",
       "       [0.0371661 , 0.1927851 , 1.        ],\n",
       "       [0.04584715, 0.21411947, 1.        ],\n",
       "       [0.04178837, 0.20442203, 1.        ],\n",
       "       [0.09438099, 0.3072149 , 1.        ],\n",
       "       [0.0967794 , 0.31109387, 1.        ],\n",
       "       [0.39585476, 0.6291699 , 1.        ],\n",
       "       [0.05291071, 0.23002327, 1.        ],\n",
       "       [0.0580253 , 0.24088441, 1.        ],\n",
       "       [0.09319307, 0.30527541, 1.        ],\n",
       "       [0.09319307, 0.30527541, 1.        ],\n",
       "       [0.055256  , 0.23506594, 1.        ],\n",
       "       [0.06048013, 0.24592708, 1.        ],\n",
       "       [0.06396308, 0.25290923, 1.        ],\n",
       "       [0.06977959, 0.26415826, 1.        ],\n",
       "       [0.07713655, 0.27773468, 1.        ],\n",
       "       [0.09083981, 0.30139643, 1.        ],\n",
       "       [0.09920789, 0.31497285, 1.        ],\n",
       "       [0.16651971, 0.40806827, 1.        ],\n",
       "       [0.16525581, 0.40651668, 1.        ],\n",
       "       [0.17002027, 0.41233514, 1.        ],\n",
       "       [0.2134311 , 0.46198604, 1.        ],\n",
       "       [0.22615965, 0.47556245, 1.        ],\n",
       "       [0.33270254, 0.57680372, 1.        ],\n",
       "       [0.10566282, 0.32505818, 1.        ],\n",
       "       [0.14806674, 0.38479441, 1.        ],\n",
       "       [0.12901974, 0.35919317, 1.        ],\n",
       "       [0.12901974, 0.35919317, 1.        ],\n",
       "       [0.14157209, 0.37626067, 1.        ],\n",
       "       [0.33315017, 0.57719162, 1.        ],\n",
       "       [0.35130221, 0.59270753, 1.        ],\n",
       "       [0.40617136, 0.63731575, 1.        ],\n",
       "       [0.41612008, 0.6450737 , 1.        ],\n",
       "       [0.08990693, 0.29984484, 1.        ],\n",
       "       [0.07821764, 0.27967417, 1.        ],\n",
       "       [0.09060614, 0.30100853, 1.        ],\n",
       "       [0.0788699 , 0.28083786, 1.        ],\n",
       "       [0.09319307, 0.30527541, 1.        ],\n",
       "       [0.10390495, 0.3223429 , 1.        ],\n",
       "       [0.09920789, 0.31497285, 1.        ],\n",
       "       [0.08828597, 0.29712956, 1.        ],\n",
       "       [0.08084294, 0.28432894, 1.        ],\n",
       "       [0.20702853, 0.45500388, 1.        ],\n",
       "       [0.17909509, 0.42319628, 1.        ],\n",
       "       [0.17388059, 0.41698991, 1.        ],\n",
       "       [0.30510839, 0.55236618, 1.        ],\n",
       "       [0.35962771, 0.59968968, 1.        ],\n",
       "       [0.31504402, 0.56128782, 1.        ],\n",
       "       [0.36335924, 0.60279286, 1.        ],\n",
       "       [0.36476352, 0.60395656, 1.        ],\n",
       "       [0.41912817, 0.64740109, 1.        ],\n",
       "       [0.32249006, 0.56788208, 1.        ],\n",
       "       [0.36664011, 0.60550815, 1.        ],\n",
       "       [0.34946534, 0.59115593, 1.        ],\n",
       "       [0.44980488, 0.67067494, 1.        ],\n",
       "       [0.3727723 , 0.61055081, 1.        ]])"
      ]
     },
     "execution_count": 10,
     "metadata": {},
     "output_type": "execute_result"
    }
   ],
   "source": [
    "# add column of ones\n",
    "X= np.hstack((X**2, X, np.ones(X.shape)))\n",
    "X"
   ]
  },
  {
   "cell_type": "code",
   "execution_count": 11,
   "id": "b2fc25d1",
   "metadata": {},
   "outputs": [],
   "source": [
    "#initialized the parameter theta (random)\n",
    "theta = np.random.randn(3, 1)"
   ]
  },
  {
   "cell_type": "markdown",
   "id": "03ec129b",
   "metadata": {},
   "source": [
    "# 4.Model"
   ]
  },
  {
   "cell_type": "code",
   "execution_count": 12,
   "id": "01f1f7bb",
   "metadata": {},
   "outputs": [],
   "source": [
    "def model(X, theta):\n",
    "    #write your code here\n",
    "    return X.dot(theta)"
   ]
  },
  {
   "cell_type": "code",
   "execution_count": 13,
   "id": "e57b9d5d",
   "metadata": {},
   "outputs": [
    {
     "data": {
      "text/plain": [
       "<matplotlib.collections.PathCollection at 0x1e507696b80>"
      ]
     },
     "execution_count": 13,
     "metadata": {},
     "output_type": "execute_result"
    },
    {
     "data": {
      "image/png": "[encoded data removed]",
      "text/plain": [
       "<Figure size 640x480 with 1 Axes>"
      ]
     },
     "metadata": {},
     "output_type": "display_data"
    }
   ],
   "source": [
    "#visualization data\n",
    "plt.scatter(X[:, 1], y)\n",
    "#visualization model (c='r')\n",
    "plt.scatter(X[:, 1], model(X, theta), c='r')"
   ]
  },
  {
   "cell_type": "markdown",
   "id": "5698c36f",
   "metadata": {},
   "source": [
    "# 5.Const Function"
   ]
  },
  {
   "cell_type": "code",
   "execution_count": 14,
   "id": "0a9c8850",
   "metadata": {},
   "outputs": [],
   "source": [
    "def cost_function(X, y, theta):\n",
    "    #write your code here \n",
    "    m = len(y)\n",
    "    return 1/(2*m) * np.sum((model(X, theta) - y)**2)"
   ]
  },
  {
   "cell_type": "markdown",
   "id": "ebf14789",
   "metadata": {},
   "source": [
    "# 6.Gradients and Gradient Descent"
   ]
  },
  {
   "cell_type": "code",
   "execution_count": 15,
   "id": "6cf0e707",
   "metadata": {},
   "outputs": [],
   "source": [
    "def grad(X, y, theta) :\n",
    "    #write your code here\n",
    "    m = len(y)\n",
    "    return 1/m * X.T.dot(model(X, theta) - y)"
   ]
  },
  {
   "cell_type": "code",
   "execution_count": 16,
   "id": "f74e624a",
   "metadata": {},
   "outputs": [],
   "source": [
    "def gradient_descent(X, y, theta, learning_rate, n_iterations):\n",
    "    cost_history= np.zeros(n_iterations)\n",
    "    #write your code here\n",
    "    for i in range(n_iterations):\n",
    "        cost_history[i]= cost_function(X, y, theta)\n",
    "        theta= theta - learning_rate * grad(X, y, theta)\n",
    "    \n",
    "    return theta, cost_history"
   ]
  },
  {
   "cell_type": "markdown",
   "id": "378449ca",
   "metadata": {},
   "source": [
    "# 7.Training"
   ]
  },
  {
   "cell_type": "code",
   "execution_count": 17,
   "id": "7fdefc25",
   "metadata": {},
   "outputs": [],
   "source": [
    "#call minimization function\n",
    "theta_final, cost_history = gradient_descent(X, y, theta, 0.2, 10000)"
   ]
  },
  {
   "cell_type": "code",
   "execution_count": 18,
   "id": "dfca7156",
   "metadata": {},
   "outputs": [
    {
     "data": {
      "text/plain": [
       "array([[0.75949716],\n",
       "       [0.12239823],\n",
       "       [0.00101574]])"
      ]
     },
     "execution_count": 18,
     "metadata": {},
     "output_type": "execute_result"
    }
   ],
   "source": [
    "#display the final parameter theta\n",
    "theta_final"
   ]
  },
  {
   "cell_type": "code",
   "execution_count": 19,
   "id": "3273cff6",
   "metadata": {},
   "outputs": [
    {
     "data": {
      "text/plain": [
       "<matplotlib.collections.PathCollection at 0x1e507712430>"
      ]
     },
     "execution_count": 19,
     "metadata": {},
     "output_type": "execute_result"
    },
    {
     "data": {
      "image/png": "[encoded data removed]",
      "text/plain": [
       "<Figure size 640x480 with 1 Axes>"
      ]
     },
     "metadata": {},
     "output_type": "display_data"
    }
   ],
   "source": [
    "#get model\n",
    "predictions = model(X, theta_final)\n",
    "#visualization data\n",
    "plt.scatter(X[:, 1], y)\n",
    "#visualization model (c='r')\n",
    "plt.scatter(X[:, 1], predictions, c='r')"
   ]
  },
  {
   "cell_type": "code",
   "execution_count": 20,
   "id": "677bbf5a",
   "metadata": {},
   "outputs": [
    {
     "data": {
      "text/plain": [
       "[<matplotlib.lines.Line2D at 0x1e507777160>]"
      ]
     },
     "execution_count": 20,
     "metadata": {},
     "output_type": "execute_result"
    },
    {
     "data": {
      "image/png": "[encoded data removed]",
      "text/plain": [
       "<Figure size 640x480 with 1 Axes>"
      ]
     },
     "metadata": {},
     "output_type": "display_data"
    }
   ],
   "source": [
    "#visualization cost_history\n",
    "plt.plot(range(10000), cost_history)"
   ]
  },
  {
   "cell_type": "code",
   "execution_count": 21,
   "id": "df32e506",
   "metadata": {},
   "outputs": [],
   "source": [
    "#get model performance\n",
    "def coef_determination(y, pred):\n",
    "    u= ((y - pred)**2).sum()\n",
    "    v= ((y - y.mean())**2).sum()\n",
    "    return 1 - (u/v)"
   ]
  },
  {
   "cell_type": "code",
   "execution_count": 22,
   "id": "9172ada8",
   "metadata": {},
   "outputs": [
    {
     "data": {
      "text/plain": [
       "0.8103519738345435"
      ]
     },
     "execution_count": 22,
     "metadata": {},
     "output_type": "execute_result"
    }
   ],
   "source": [
    "#call coef_determination function\n",
    "coef_determination(y, predictions)"
   ]
  },
  {
   "cell_type": "markdown",
   "id": "91b01216",
   "metadata": {},
   "source": [
    "# scikit learn library"
   ]
  },
  {
   "cell_type": "code",
   "execution_count": 23,
   "id": "7afa24c9",
   "metadata": {},
   "outputs": [],
   "source": [
    "from sklearn.linear_model import LinearRegression"
   ]
  },
  {
   "cell_type": "code",
   "execution_count": 24,
   "id": "1b0d9382",
   "metadata": {},
   "outputs": [],
   "source": [
    "#create model\n",
    "model_ = LinearRegression()"
   ]
  },
  {
   "cell_type": "code",
   "execution_count": 25,
   "id": "83da572b",
   "metadata": {},
   "outputs": [
    {
     "data": {
      "text/plain": [
       "LinearRegression()"
      ]
     },
     "execution_count": 25,
     "metadata": {},
     "output_type": "execute_result"
    }
   ],
   "source": [
    "#training the model\n",
    "model_.fit(data[['curb-weight']], data['price'])"
   ]
  },
  {
   "cell_type": "code",
   "execution_count": 26,
   "id": "d177fc0d",
   "metadata": {},
   "outputs": [
    {
     "data": {
      "text/plain": [
       "0.7753995907018842"
      ]
     },
     "execution_count": 26,
     "metadata": {},
     "output_type": "execute_result"
    }
   ],
   "source": [
    "#get model performance\n",
    "model_.score(data[['curb-weight']], data['price'])"
   ]
  },
  {
   "cell_type": "code",
   "execution_count": 27,
   "id": "b3be2c9e",
   "metadata": {},
   "outputs": [
    {
     "data": {
      "text/plain": [
       "array([15636.88481519, 11476.5182464 ])"
      ]
     },
     "execution_count": 27,
     "metadata": {},
     "output_type": "execute_result"
    }
   ],
   "source": [
    "#predict some data\n",
    "df = pd.DataFrame({'curb-weight':[2800, 2450]})\n",
    "model_.predict(df)"
   ]
  },
  {
   "cell_type": "markdown",
   "id": "5f8b5d91",
   "metadata": {},
   "source": [
    "# 8.Deployment"
   ]
  },
  {
   "cell_type": "code",
   "execution_count": 28,
   "id": "8338d2f4",
   "metadata": {},
   "outputs": [],
   "source": [
    "import joblib"
   ]
  },
  {
   "cell_type": "code",
   "execution_count": 29,
   "id": "7a7a93a0",
   "metadata": {},
   "outputs": [
    {
     "data": {
      "text/plain": [
       "['price_car_predict.pkl']"
      ]
     },
     "execution_count": 29,
     "metadata": {},
     "output_type": "execute_result"
    }
   ],
   "source": [
    "#deploy model\n",
    "joblib.dump(value= model_, filename='price_car_predict.pkl')"
   ]
  },
  {
   "cell_type": "code",
   "execution_count": 30,
   "id": "b2190ca9",
   "metadata": {},
   "outputs": [],
   "source": [
    "model_load= joblib.load(filename='price_car_predict.pkl')"
   ]
  },
  {
   "cell_type": "code",
   "execution_count": 31,
   "id": "ba7c10ee",
   "metadata": {},
   "outputs": [
    {
     "data": {
      "text/plain": [
       "array([15636.88481519, 11476.5182464 ])"
      ]
     },
     "execution_count": 31,
     "metadata": {},
     "output_type": "execute_result"
    }
   ],
   "source": [
    "df = pd.DataFrame({'curb-weight':[2800, 2450]})\n",
    "model_load.predict(df)"
   ]
  },
  {
   "cell_type": "code",
   "execution_count": null,
   "id": "1ca8fc51",
   "metadata": {},
   "outputs": [],
   "source": []
  }
 ],
 "metadata": {
  "kernelspec": {
   "display_name": "Python 3 (ipykernel)",
   "language": "python",
   "name": "python3"
  },
  "language_info": {
   "codemirror_mode": {
    "name": "ipython",
    "version": 3
   },
   "file_extension": ".py",
   "mimetype": "text/x-python",
   "name": "python",
   "nbconvert_exporter": "python",
   "pygments_lexer": "ipython3",
   "version": "3.9.13"
  }
 },
 "nbformat": 4,
 "nbformat_minor": 5
}
