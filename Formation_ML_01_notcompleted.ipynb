{
 "cells": [
  {
   "cell_type": "markdown",
   "id": "9417612d",
   "metadata": {},
   "source": [
    "# Scénario de ce projet :"
   ]
  },
  {
   "cell_type": "markdown",
   "id": "6a85ddb5",
   "metadata": {},
   "source": [
    "Vous avez une entreprise de développement d'applications web et votre nouveau projet concerne la création d'une application qui met en relation des vendeurs de voiture d'occasion et des potentiels clients. Vous aimeriez ajouter une nouvelle fonctionnalité à cette application, celle de de donner la possibilité aux utilisateurs de l'application de connaître le prix correcte auquel ils peuvent acheter ou vendre une voiture d'occasion d'après les caractéristiques qu'ils souhaitent afin de ne pas se faire arnaquer par des vendeurs.\n",
    "\n",
    "Ensuite l'application devra avertir un potentiel acheteur si la voiture qui l'intéresse est au prix \"juste\" et aussi avertir un vendeur si le prix auquel il veut vendre sa voiture est correcte.\n",
    "\n",
    "Après avoir collecté des données des caractéristiques de plusieurs centaines de voitures d'occasion ainsi que leurs prix de vente sur des plateformes dédiées, vous décidez donc de construire un modèle de Machine Learning capable de prédire le prix d'une voiture en fonction de ses caractéristiques."
   ]
  },
  {
   "cell_type": "markdown",
   "id": "0912cd0f",
   "metadata": {},
   "source": [
    "# ________________________ IMPLEMENTATION ________________________"
   ]
  },
  {
   "cell_type": "code",
   "execution_count": 1,
   "id": "079fd7e6",
   "metadata": {},
   "outputs": [],
   "source": [
    "import numpy as np\n",
    "import pandas as pd\n",
    "import matplotlib.pyplot as plt\n",
    "from sklearn.preprocessing import MinMaxScaler"
   ]
  },
  {
   "cell_type": "markdown",
   "id": "39e79a1f",
   "metadata": {},
   "source": [
    "#  1. Import DataSet"
   ]
  },
  {
   "cell_type": "code",
   "execution_count": 2,
   "id": "1f5e7feb",
   "metadata": {},
   "outputs": [
    {
     "data": {
      "text/html": [
       "<div>\n",
       "<style scoped>\n",
       "    .dataframe tbody tr th:only-of-type {\n",
       "        vertical-align: middle;\n",
       "    }\n",
       "\n",
       "    .dataframe tbody tr th {\n",
       "        vertical-align: top;\n",
       "    }\n",
       "\n",
       "    .dataframe thead th {\n",
       "        text-align: right;\n",
       "    }\n",
       "</style>\n",
       "<table border=\"1\" class=\"dataframe\">\n",
       "  <thead>\n",
       "    <tr style=\"text-align: right;\">\n",
       "      <th></th>\n",
       "      <th>curb-weight</th>\n",
       "      <th>price</th>\n",
       "    </tr>\n",
       "  </thead>\n",
       "  <tbody>\n",
       "    <tr>\n",
       "      <th>0</th>\n",
       "      <td>2548</td>\n",
       "      <td>13495</td>\n",
       "    </tr>\n",
       "    <tr>\n",
       "      <th>1</th>\n",
       "      <td>2548</td>\n",
       "      <td>16500</td>\n",
       "    </tr>\n",
       "    <tr>\n",
       "      <th>2</th>\n",
       "      <td>2823</td>\n",
       "      <td>16500</td>\n",
       "    </tr>\n",
       "    <tr>\n",
       "      <th>3</th>\n",
       "      <td>2337</td>\n",
       "      <td>13950</td>\n",
       "    </tr>\n",
       "    <tr>\n",
       "      <th>4</th>\n",
       "      <td>2824</td>\n",
       "      <td>17450</td>\n",
       "    </tr>\n",
       "  </tbody>\n",
       "</table>\n",
       "</div>"
      ],
      "text/plain": [
       "   curb-weight  price\n",
       "0         2548  13495\n",
       "1         2548  16500\n",
       "2         2823  16500\n",
       "3         2337  13950\n",
       "4         2824  17450"
      ]
     },
     "execution_count": 2,
     "metadata": {},
     "output_type": "execute_result"
    }
   ],
   "source": [
    "#import data\n",
    "data= pd.read_csv('data.csv')\n",
    "#display data\n",
    "data.head()"
   ]
  },
  {
   "cell_type": "markdown",
   "id": "20ad9a8b",
   "metadata": {},
   "source": [
    "# 2.Data visualization"
   ]
  },
  {
   "cell_type": "code",
   "execution_count": 3,
   "id": "1ec075c3",
   "metadata": {},
   "outputs": [],
   "source": [
    "#specify X (feature)\n",
    "X= data['curb-weight']\n",
    "#specify y (target)\n",
    "y= data['price']\n"
   ]
  },
  {
   "cell_type": "code",
   "execution_count": 4,
   "id": "ec69c169",
   "metadata": {},
   "outputs": [
    {
     "data": {
      "text/plain": [
       "<matplotlib.collections.PathCollection at 0x1abb195b5b0>"
      ]
     },
     "execution_count": 4,
     "metadata": {},
     "output_type": "execute_result"
    },
    {
     "data": {
      "image/png": "[encoded data removed]",
      "text/plain": [
       "<Figure size 640x480 with 1 Axes>"
      ]
     },
     "metadata": {},
     "output_type": "display_data"
    }
   ],
   "source": [
    "#visualization\n",
    "plt.scatter(X, y)"
   ]
  },
  {
   "cell_type": "markdown",
   "id": "709af886",
   "metadata": {},
   "source": [
    "# 3.data preparation"
   ]
  },
  {
   "cell_type": "code",
   "execution_count": 5,
   "id": "7f61fb2e",
   "metadata": {},
   "outputs": [],
   "source": [
    "#transform X to numpy array\n",
    "X= data['curb-weight'].to_numpy()\n",
    "#transform y to numpy array\n",
    "y= data['price'].to_numpy()"
   ]
  },
  {
   "cell_type": "code",
   "execution_count": 6,
   "id": "5c87971e",
   "metadata": {},
   "outputs": [
    {
     "name": "stdout",
     "output_type": "stream",
     "text": [
      "(196,)\n",
      "(196,)\n"
     ]
    }
   ],
   "source": [
    "#display data dimensioning\n",
    "print(X.shape)\n",
    "print(y.shape)"
   ]
  },
  {
   "cell_type": "code",
   "execution_count": 7,
   "id": "afd4ebed",
   "metadata": {},
   "outputs": [],
   "source": [
    "#reshape the dimensioning\n",
    "X= X.reshape((X.shape[0], 1))\n",
    "y= y.reshape((y.shape[0],1))"
   ]
  },
  {
   "cell_type": "code",
   "execution_count": 8,
   "id": "564ae54e",
   "metadata": {},
   "outputs": [
    {
     "name": "stdout",
     "output_type": "stream",
     "text": [
      "(196, 1)\n",
      "(196, 1)\n"
     ]
    }
   ],
   "source": [
    "#display again the data dimensioning\n",
    "print(X.shape)\n",
    "print(y.shape)"
   ]
  },
  {
   "cell_type": "code",
   "execution_count": 9,
   "id": "1e551a7b",
   "metadata": {},
   "outputs": [],
   "source": [
    "#why this row ?\n",
    "scaler_X= MinMaxScaler()\n",
    "X= scaler_X.fit_transform(X)\n",
    "\n",
    "scaler_y= MinMaxScaler()\n",
    "y= scaler_y.fit_transform(y)"
   ]
  },
  {
   "cell_type": "code",
   "execution_count": 10,
   "id": "fef15ef5",
   "metadata": {},
   "outputs": [],
   "source": [
    "# add column of ones\n",
    "X= np.hstack((X**2,X, np.ones(X.shape)))\n"
   ]
  },
  {
   "cell_type": "code",
   "execution_count": 11,
   "id": "b2fc25d1",
   "metadata": {},
   "outputs": [],
   "source": [
    "#initialized the parameter theta (random)\n",
    "theta = np.random.randn(3, 1)"
   ]
  },
  {
   "cell_type": "markdown",
   "id": "03ec129b",
   "metadata": {},
   "source": [
    "# 4.Model"
   ]
  },
  {
   "cell_type": "code",
   "execution_count": 12,
   "id": "01f1f7bb",
   "metadata": {},
   "outputs": [],
   "source": [
    "def model(X, theta):\n",
    "    #write your code here\n",
    "    return X.dot(theta)"
   ]
  },
  {
   "cell_type": "code",
   "execution_count": 13,
   "id": "e57b9d5d",
   "metadata": {},
   "outputs": [
    {
     "data": {
      "text/plain": [
       "<matplotlib.collections.PathCollection at 0x1abb19901f0>"
      ]
     },
     "execution_count": 13,
     "metadata": {},
     "output_type": "execute_result"
    },
    {
     "data": {
      "image/png": "[encoded data removed]",
      "text/plain": [
       "<Figure size 640x480 with 1 Axes>"
      ]
     },
     "metadata": {},
     "output_type": "display_data"
    }
   ],
   "source": [
    "#visualization data\n",
    "plt.scatter(X[:,1], y)\n",
    "#visualization model (c='r')\n",
    "plt.scatter(X[:,1], model(X, theta), c='r')"
   ]
  },
  {
   "cell_type": "markdown",
   "id": "5698c36f",
   "metadata": {},
   "source": [
    "# 5.Cost Function"
   ]
  },
  {
   "cell_type": "code",
   "execution_count": 14,
   "id": "0a9c8850",
   "metadata": {},
   "outputs": [],
   "source": [
    "def cost_function(X, y, theta):\n",
    "    #write your code here \n",
    "    m= len(y)\n",
    "    return 1/(2*m) * np.sum((model(X, theta) - y)**2)"
   ]
  },
  {
   "cell_type": "markdown",
   "id": "ebf14789",
   "metadata": {},
   "source": [
    "# 6.Gradients and Gradient Descent"
   ]
  },
  {
   "cell_type": "code",
   "execution_count": 15,
   "id": "6cf0e707",
   "metadata": {},
   "outputs": [],
   "source": [
    "def grad(X, y, theta) :\n",
    "    #write your code here\n",
    "    m= len(y)\n",
    "    return 1/m * X.T.dot(model(X, theta) - y)"
   ]
  },
  {
   "cell_type": "code",
   "execution_count": 16,
   "id": "f74e624a",
   "metadata": {},
   "outputs": [],
   "source": [
    "def gradient_descent(X, y, theta, learning_rate, n_iterations):\n",
    "    cost_history= np.zeros(n_iterations)\n",
    "    #write your code here\n",
    "    for i in range(n_iterations):\n",
    "        cost_history[i]= cost_function(X, y, theta)\n",
    "        theta= theta - learning_rate*grad(X, y, theta)\n",
    "        \n",
    "    return theta, cost_history"
   ]
  },
  {
   "cell_type": "markdown",
   "id": "378449ca",
   "metadata": {},
   "source": [
    "# 7.Training"
   ]
  },
  {
   "cell_type": "code",
   "execution_count": 30,
   "id": "7fdefc25",
   "metadata": {},
   "outputs": [],
   "source": [
    "#call minimization function\n",
    "theta_final, cost_history = gradient_descent(X, y, theta, 0.3, 10000)"
   ]
  },
  {
   "cell_type": "code",
   "execution_count": 31,
   "id": "dfca7156",
   "metadata": {},
   "outputs": [
    {
     "data": {
      "text/plain": [
       "array([[ 0.70647454],\n",
       "       [ 0.17523432],\n",
       "       [-0.0096479 ]])"
      ]
     },
     "execution_count": 31,
     "metadata": {},
     "output_type": "execute_result"
    }
   ],
   "source": [
    "#display the final parameter theta\n",
    "theta_final"
   ]
  },
  {
   "cell_type": "code",
   "execution_count": 32,
   "id": "3273cff6",
   "metadata": {},
   "outputs": [
    {
     "data": {
      "text/plain": [
       "<matplotlib.collections.PathCollection at 0x1abb1e35910>"
      ]
     },
     "execution_count": 32,
     "metadata": {},
     "output_type": "execute_result"
    },
    {
     "data": {
      "image/png": "[encoded data removed]",
      "text/plain": [
       "<Figure size 640x480 with 1 Axes>"
      ]
     },
     "metadata": {},
     "output_type": "display_data"
    }
   ],
   "source": [
    "#get model\n",
    "predictions= model(X, theta_final)\n",
    "#visualization data\n",
    "plt.scatter(X[:, 1], y)\n",
    "#visualization model (c='r')\n",
    "plt.scatter(X[:, 1], predictions, c='r')"
   ]
  },
  {
   "cell_type": "code",
   "execution_count": 33,
   "id": "677bbf5a",
   "metadata": {},
   "outputs": [
    {
     "data": {
      "text/plain": [
       "[<matplotlib.lines.Line2D at 0x1abb1e54ca0>]"
      ]
     },
     "execution_count": 33,
     "metadata": {},
     "output_type": "execute_result"
    },
    {
     "data": {
      "image/png": "[encoded data removed]",
      "text/plain": [
       "<Figure size 640x480 with 1 Axes>"
      ]
     },
     "metadata": {},
     "output_type": "display_data"
    }
   ],
   "source": [
    "#visualization cost_history\n",
    "plt.plot(range(10000), cost_history)"
   ]
  },
  {
   "cell_type": "code",
   "execution_count": 34,
   "id": "df32e506",
   "metadata": {},
   "outputs": [],
   "source": [
    "#get model performance\n",
    "def coef_determination(y, pred):\n",
    "    u= ((y - pred)**2).sum()\n",
    "    v= ((y - y.mean())**2).sum()\n",
    "    return 1 - (u/v)"
   ]
  },
  {
   "cell_type": "code",
   "execution_count": 35,
   "id": "9172ada8",
   "metadata": {},
   "outputs": [
    {
     "data": {
      "text/plain": [
       "0.8103403838956103"
      ]
     },
     "execution_count": 35,
     "metadata": {},
     "output_type": "execute_result"
    }
   ],
   "source": [
    "#call coef_determination function\n",
    "coef_determination(y, predictions)"
   ]
  },
  {
   "cell_type": "markdown",
   "id": "91b01216",
   "metadata": {},
   "source": [
    "# scikit learn library"
   ]
  },
  {
   "cell_type": "code",
   "execution_count": 23,
   "id": "7afa24c9",
   "metadata": {},
   "outputs": [],
   "source": [
    "from sklearn.linear_model import LinearRegression"
   ]
  },
  {
   "cell_type": "code",
   "execution_count": 24,
   "id": "1b0d9382",
   "metadata": {},
   "outputs": [],
   "source": [
    "#create model\n",
    "model_= LinearRegression()"
   ]
  },
  {
   "cell_type": "code",
   "execution_count": 25,
   "id": "83da572b",
   "metadata": {},
   "outputs": [
    {
     "data": {
      "text/plain": [
       "LinearRegression()"
      ]
     },
     "execution_count": 25,
     "metadata": {},
     "output_type": "execute_result"
    }
   ],
   "source": [
    "#training the model\n",
    "model_.fit(data[['curb-weight']], data['price'])"
   ]
  },
  {
   "cell_type": "code",
   "execution_count": 26,
   "id": "d177fc0d",
   "metadata": {},
   "outputs": [
    {
     "data": {
      "text/plain": [
       "0.7753995907018842"
      ]
     },
     "execution_count": 26,
     "metadata": {},
     "output_type": "execute_result"
    }
   ],
   "source": [
    "#get model performance\n",
    "model_.score(data[['curb-weight']], data['price'])"
   ]
  },
  {
   "cell_type": "code",
   "execution_count": 36,
   "id": "b3be2c9e",
   "metadata": {},
   "outputs": [
    {
     "data": {
      "text/plain": [
       "array([15636.88481519, 12070.85632766])"
      ]
     },
     "execution_count": 36,
     "metadata": {},
     "output_type": "execute_result"
    }
   ],
   "source": [
    "#predict some data\n",
    "df= pd.DataFrame({'curb-weight':[2800, 2500]})\n",
    "model_.predict(df)"
   ]
  },
  {
   "cell_type": "markdown",
   "id": "5f8b5d91",
   "metadata": {},
   "source": [
    "# 8.Deployment"
   ]
  },
  {
   "cell_type": "code",
   "execution_count": 37,
   "id": "8338d2f4",
   "metadata": {},
   "outputs": [],
   "source": [
    "import joblib"
   ]
  },
  {
   "cell_type": "code",
   "execution_count": 38,
   "id": "7a7a93a0",
   "metadata": {},
   "outputs": [
    {
     "data": {
      "text/plain": [
       "['price_car_predictions.pkl']"
      ]
     },
     "execution_count": 38,
     "metadata": {},
     "output_type": "execute_result"
    }
   ],
   "source": [
    "#deploy model\n",
    "joblib.dump(value=model_, filename='price_car_predictions.pkl')"
   ]
  },
  {
   "cell_type": "code",
   "execution_count": 39,
   "id": "8247ea2c",
   "metadata": {},
   "outputs": [
    {
     "data": {
      "text/plain": [
       "array([15636.88481519, 12070.85632766])"
      ]
     },
     "execution_count": 39,
     "metadata": {},
     "output_type": "execute_result"
    }
   ],
   "source": [
    "m= joblib.load( filename='price_car_predictions.pkl')\n",
    "df= pd.DataFrame({'curb-weight':[2800, 2500]})\n",
    "m.predict(df)"
   ]
  },
  {
   "cell_type": "code",
   "execution_count": null,
   "id": "eabcf31f",
   "metadata": {},
   "outputs": [],
   "source": []
  }
 ],
 "metadata": {
  "kernelspec": {
   "display_name": "Python 3 (ipykernel)",
   "language": "python",
   "name": "python3"
  },
  "language_info": {
   "codemirror_mode": {
    "name": "ipython",
    "version": 3
   },
   "file_extension": ".py",
   "mimetype": "text/x-python",
   "name": "python",
   "nbconvert_exporter": "python",
   "pygments_lexer": "ipython3",
   "version": "3.9.13"
  }
 },
 "nbformat": 4,
 "nbformat_minor": 5
}
